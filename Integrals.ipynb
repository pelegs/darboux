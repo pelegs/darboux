{
 "cells": [
  {
   "cell_type": "code",
   "execution_count": 6,
   "metadata": {},
   "outputs": [],
   "source": [
    "%matplotlib inline\n",
    "\n",
    "import matplotlib\n",
    "import numpy as np\n",
    "import matplotlib.pyplot as plt\n",
    "import matplotlib.patches as patches\n",
    "plt.style.use('seaborn-pastel')"
   ]
  },
  {
   "cell_type": "code",
   "execution_count": 7,
   "metadata": {},
   "outputs": [],
   "source": [
    "from ipywidgets import interact, interactive, fixed, interact_manual\n",
    "import ipywidgets as widgets"
   ]
  },
  {
   "cell_type": "code",
   "execution_count": 28,
   "metadata": {},
   "outputs": [],
   "source": [
    "def draw_rects(ax, a, b, N, f,\n",
    "               mode='min', color='red'):\n",
    "    dx = (b-a)/N\n",
    "    for i in range(N):\n",
    "        if mode == 'min':\n",
    "            h = min(f(a+i*dx), f(a+(i+1)*dx))\n",
    "        elif mode == 'max':\n",
    "            h = max(f(a+i*dx), f(a+(i+1)*dx))\n",
    "        else:\n",
    "            raise ValueError('Bla')\n",
    "        rect = patches.Rectangle((a+i*dx, 0), dx, h,\n",
    "                                 color=color, fill=False)\n",
    "        ax.add_patch(rect)\n",
    "    return ax"
   ]
  },
  {
   "cell_type": "code",
   "execution_count": 9,
   "metadata": {},
   "outputs": [],
   "source": [
    "xmin, xmax = 0, 3.5\n",
    "x = np.arange(xmin, xmax, 0.01)\n",
    "f = lambda z: np.sin(z)\n",
    "y = f(x)"
   ]
  },
  {
   "cell_type": "code",
   "execution_count": 15,
   "metadata": {},
   "outputs": [
    {
     "data": {
      "image/png": "[encoded data removed]",
      "text/plain": [
       "<Figure size 432x288 with 1 Axes>"
      ]
     },
     "metadata": {
      "needs_background": "light"
     },
     "output_type": "display_data"
    }
   ],
   "source": [
    "fig = plt.figure()"
   ]
  },
  {
   "cell_type": "code",
   "execution_count": 29,
   "metadata": {},
   "outputs": [
    {
     "data": {
      "application/vnd.jupyter.widget-view+json": {
       "model_id": "24e043a334c346d785e76310262465b8",
       "version_major": 2,
       "version_minor": 0
      },
      "text/plain": [
       "interactive(children=(FloatSlider(value=0.0, description='a', max=3.5), FloatSlider(value=1.0, description='b'…"
      ]
     },
     "metadata": {},
     "output_type": "display_data"
    },
    {
     "data": {
      "text/plain": [
       "<function __main__.draw(a=0, b=1, num_boxes=10, min=True, max=True)>"
      ]
     },
     "execution_count": 29,
     "metadata": {},
     "output_type": "execute_result"
    }
   ],
   "source": [
    "def draw(a=0, b=1, num_boxes=10, min=True, max=True):\n",
    "    ax = plt.axes(xlim=(xmin, xmax), ylim=(0,1.1))\n",
    "    if max:\n",
    "        ax = draw_rects(ax, a, b, num_boxes, f,\n",
    "                        mode='max', color='red')\n",
    "    if min:\n",
    "        ax = draw_rects(ax, a, b, num_boxes, f,\n",
    "                        mode='min', color='blue')\n",
    "    plt.plot(x, y, color='black')\n",
    "interact(draw, a=(xmin, xmax, 0.1), b=(xmin, xmax, 0.1), num_boxes=(1,100),\n",
    "         min=True, max=True)"
   ]
  },
  {
   "cell_type": "code",
   "execution_count": null,
   "metadata": {},
   "outputs": [],
   "source": []
  }
 ],
 "metadata": {
  "kernelspec": {
   "display_name": "Python 3",
   "language": "python",
   "name": "python3"
  },
  "language_info": {
   "codemirror_mode": {
    "name": "ipython",
    "version": 3
   },
   "file_extension": ".py",
   "mimetype": "text/x-python",
   "name": "python",
   "nbconvert_exporter": "python",
   "pygments_lexer": "ipython3",
   "version": "3.8.4"
  }
 },
 "nbformat": 4,
 "nbformat_minor": 4
}
